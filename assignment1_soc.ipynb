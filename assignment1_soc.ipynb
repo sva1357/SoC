{
  "nbformat": 4,
  "nbformat_minor": 0,
  "metadata": {
    "colab": {
      "provenance": []
    },
    "kernelspec": {
      "name": "python3",
      "display_name": "Python 3"
    },
    "language_info": {
      "name": "python"
    }
  },
  "cells": [
    {
      "cell_type": "code",
      "execution_count": 13,
      "metadata": {
        "colab": {
          "base_uri": "https://localhost:8080/"
        },
        "id": "pHPn0ps29aoe",
        "outputId": "325b1df9-a894-4bd7-e244-a446f8fd8908"
      },
      "outputs": [
        {
          "output_type": "stream",
          "name": "stdout",
          "text": [
            "40\n",
            "1.Celsius to Fahrenheit conversion\n",
            "2.Fahrenheit to Celsius conversion\n",
            "2\n",
            "40°F=4.44°C\n"
          ]
        }
      ],
      "source": [
        "val=int(input())\n",
        "def menu():\n",
        "  print(\"1.Celsius to Fahrenheit conversion\")\n",
        "  print(\"2.Fahrenheit to Celsius conversion\")\n",
        "  n=int(input())\n",
        "  if n == 1:\n",
        "    c_to_f(val)\n",
        "  elif n == 2 :\n",
        "    f_to_c(val)\n",
        "  else:\n",
        "    print(\"Invalid input\")\n",
        "def c_to_f(c):\n",
        "  f=round((9*c+160)/5,2)\n",
        "  print(f\"{c}°C={f}°F\")\n",
        "def f_to_c(f):\n",
        "  c=round((5*f-160)/9,2)\n",
        "  print(f\"{f}°F={c}°C\")\n",
        "\n",
        "menu()"
      ]
    },
    {
      "cell_type": "code",
      "source": [
        "items={\n",
        "    'apple': 30,\n",
        "    'banana': 10,\n",
        "    'milk': 50,\n",
        "    'bread': 40,\n",
        "    'egg': 30,\n",
        "    'cheese':150,\n",
        "    'cashew':300\n",
        "}\n",
        "def calculate_bill():\n",
        " bill=0\n",
        " while True:\n",
        "    line=input()\n",
        "    if line==\"\":\n",
        "      break;\n",
        "\n",
        "    parts=line.split()\n",
        "    item,quantity=parts\n",
        "    qty=int(quantity)\n",
        "    if item not in items:\n",
        "        print(\"Invalid Input\")\n",
        "        break\n",
        "    if len(parts)!=2:\n",
        "        print(\"Invalid input\")\n",
        "        break\n",
        "    cost=items[item]*qty\n",
        "    bill+=cost\n",
        " if bill > 500:\n",
        "    final_bill=round((9*bill)/10,2)\n",
        "    print(final_bill)\n",
        " else:\n",
        "  print(bill)\n",
        "calculate_bill()\n"
      ],
      "metadata": {
        "colab": {
          "base_uri": "https://localhost:8080/"
        },
        "id": "3XaxZznCIrw5",
        "outputId": "b0940b43-6fe5-4731-955c-d8447ee1feb3"
      },
      "execution_count": 2,
      "outputs": [
        {
          "output_type": "stream",
          "name": "stdout",
          "text": [
            "apple 3\n",
            "cashew 2\n",
            "\n",
            "621.0\n"
          ]
        }
      ]
    },
    {
      "cell_type": "code",
      "source": [
        "def student_report():\n",
        "  name=input()\n",
        "  m1=int(input())\n",
        "  m2=int(input())\n",
        "  m3=int(input())\n",
        "  avg=(m1+m2+m3)/3\n",
        "  print(calculate_grade(avg))\n",
        "def calculate_grade(marks):\n",
        "  if marks>=90:\n",
        "    return \"A\"\n",
        "  elif marks>=75:\n",
        "    return \"B\"\n",
        "  elif marks>=50:\n",
        "    return \"C\"\n",
        "  else:\n",
        "    return \"F\"\n",
        "student_report()"
      ],
      "metadata": {
        "colab": {
          "base_uri": "https://localhost:8080/"
        },
        "id": "qEyGdlWYJMba",
        "outputId": "3064afc3-0e18-485e-eb7d-142defab4627"
      },
      "execution_count": 9,
      "outputs": [
        {
          "output_type": "stream",
          "name": "stdout",
          "text": [
            "a\n",
            "10\n",
            "100\n",
            "10\n",
            "F\n"
          ]
        }
      ]
    },
    {
      "cell_type": "code",
      "source": [
        "\n",
        "\n",
        "def login():\n",
        "    correct_pin=12345\n",
        "    attempts=0\n",
        "    while attempts<3:\n",
        "     pin=int(input())\n",
        "     if pin==correct_pin :\n",
        "        atm_menu()\n",
        "        break\n",
        "     else:\n",
        "        attempts+=1\n",
        "     if attempts==3:\n",
        "        print(\"Limit exceed after 3 incorrect attempts\")\n",
        "\n",
        "\n",
        "def atm_menu():\n",
        " while True:\n",
        "    balance = 1000\n",
        "    transactions = []\n",
        "    print(\"1.Check Balance\")\n",
        "    print(\"2.Deposit\")\n",
        "    print(\"3.WithDraw\")\n",
        "    print(\"4.Exit\")\n",
        "    n=int(input())\n",
        "    if n==1:\n",
        "      print(balance)\n",
        "    elif n==2:\n",
        "      amount=int(input())\n",
        "      balance+=amount\n",
        "      transactions.append(f\"Deposited ₹{amount}\")\n",
        "    elif n==3:\n",
        "      amount=int(input())\n",
        "      if amount>balance:\n",
        "        print(\"No sufficient balance\")\n",
        "      else:\n",
        "         balance-=amount\n",
        "         transactions.append(f\"Withdrawed ₹{amount}\")\n",
        "    elif n==4:\n",
        "      print(f\"Balance:{balance}\")\n",
        "      print(f\"Transactions:{transactions}\")\n",
        "      break;\n",
        "login()\n"
      ],
      "metadata": {
        "colab": {
          "base_uri": "https://localhost:8080/"
        },
        "id": "439bG2s9TjHm",
        "outputId": "488c9e78-5c8b-4456-f7b0-e6932419d34d"
      },
      "execution_count": 18,
      "outputs": [
        {
          "output_type": "stream",
          "name": "stdout",
          "text": [
            "12345\n",
            "1.Check Balance\n",
            "2.Deposit\n",
            "3.WithDraw\n",
            "4.Exit\n",
            "2\n",
            "300\n",
            "1.Check Balance\n",
            "2.Deposit\n",
            "3.WithDraw\n",
            "4.Exit\n",
            "3\n",
            "50\n",
            "1.Check Balance\n",
            "2.Deposit\n",
            "3.WithDraw\n",
            "4.Exit\n",
            "4\n",
            "Balance:1000\n",
            "Transactions:[]\n"
          ]
        }
      ]
    }
  ]
}